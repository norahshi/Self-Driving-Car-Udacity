{
 "cells": [
  {
   "cell_type": "markdown",
   "metadata": {},
   "source": [
    "## NY Jumpman32 Analysis Report \n",
    "\n",
    "- Section 1: Identify the data integrity issues, and address its impact on the analysis\n",
    "\n",
    "- Section 2: Analyze Jumpman32 NYC performance analysis based on provided 1 month sample data (Oct 2014)"
   ]
  },
  {
   "cell_type": "code",
   "execution_count": 1,
   "metadata": {
    "collapsed": false,
    "deletable": true,
    "editable": true
   },
   "outputs": [],
   "source": [
    "import pandas as pd\n",
    "import matplotlib.pyplot as plt\n",
    "%matplotlib inline\n",
    "import numpy as np\n",
    "import time\n",
    "import json\n",
    "import urllib\n",
    "import codecs"
   ]
  },
  {
   "cell_type": "code",
   "execution_count": 2,
   "metadata": {
    "collapsed": true,
    "deletable": true,
    "editable": true
   },
   "outputs": [],
   "source": [
    "raw=pd.read_csv('analyze_me.csv')"
   ]
  },
  {
   "cell_type": "code",
   "execution_count": 3,
   "metadata": {
    "collapsed": false,
    "deletable": true,
    "editable": true
   },
   "outputs": [
    {
     "data": {
      "text/html": [
       "<div>\n",
       "<table border=\"1\" class=\"dataframe\">\n",
       "  <thead>\n",
       "    <tr style=\"text-align: right;\">\n",
       "      <th></th>\n",
       "      <th>delivery_id</th>\n",
       "      <th>customer_id</th>\n",
       "      <th>jumpman_id</th>\n",
       "      <th>vehicle_type</th>\n",
       "      <th>pickup_place</th>\n",
       "      <th>place_category</th>\n",
       "      <th>item_name</th>\n",
       "      <th>item_quantity</th>\n",
       "      <th>item_category_name</th>\n",
       "      <th>how_long_it_took_to_order</th>\n",
       "      <th>pickup_lat</th>\n",
       "      <th>pickup_lon</th>\n",
       "      <th>dropoff_lat</th>\n",
       "      <th>dropoff_lon</th>\n",
       "      <th>when_the_delivery_started</th>\n",
       "      <th>when_the_Jumpman_arrived_at_pickup</th>\n",
       "      <th>when_the_Jumpman_left_pickup</th>\n",
       "      <th>when_the_Jumpman_arrived_at_dropoff</th>\n",
       "    </tr>\n",
       "  </thead>\n",
       "  <tbody>\n",
       "    <tr>\n",
       "      <th>0</th>\n",
       "      <td>1457973</td>\n",
       "      <td>327168</td>\n",
       "      <td>162381</td>\n",
       "      <td>van</td>\n",
       "      <td>Melt Shop</td>\n",
       "      <td>American</td>\n",
       "      <td>Lemonade</td>\n",
       "      <td>1.0</td>\n",
       "      <td>Beverages</td>\n",
       "      <td>00:19:58.582052</td>\n",
       "      <td>40.744607</td>\n",
       "      <td>-73.990742</td>\n",
       "      <td>40.752073</td>\n",
       "      <td>-73.985370</td>\n",
       "      <td>2014-10-26 13:51:59.898924</td>\n",
       "      <td>NaN</td>\n",
       "      <td>NaN</td>\n",
       "      <td>2014-10-26 14:52:06.313088</td>\n",
       "    </tr>\n",
       "    <tr>\n",
       "      <th>1</th>\n",
       "      <td>1377056</td>\n",
       "      <td>64452</td>\n",
       "      <td>104533</td>\n",
       "      <td>bicycle</td>\n",
       "      <td>Prince Street Pizza</td>\n",
       "      <td>Pizza</td>\n",
       "      <td>Neapolitan Rice Balls</td>\n",
       "      <td>3.0</td>\n",
       "      <td>Munchables</td>\n",
       "      <td>00:25:09.107093</td>\n",
       "      <td>40.723080</td>\n",
       "      <td>-73.994615</td>\n",
       "      <td>40.719722</td>\n",
       "      <td>-73.991858</td>\n",
       "      <td>2014-10-16 21:58:58.65491</td>\n",
       "      <td>2014-10-16 22:26:02.120931</td>\n",
       "      <td>2014-10-16 22:48:23.091253</td>\n",
       "      <td>2014-10-16 22:59:22.948873</td>\n",
       "    </tr>\n",
       "  </tbody>\n",
       "</table>\n",
       "</div>"
      ],
      "text/plain": [
       "   delivery_id  customer_id  jumpman_id vehicle_type         pickup_place  \\\n",
       "0      1457973       327168      162381          van            Melt Shop   \n",
       "1      1377056        64452      104533      bicycle  Prince Street Pizza   \n",
       "\n",
       "  place_category              item_name  item_quantity item_category_name  \\\n",
       "0       American               Lemonade            1.0          Beverages   \n",
       "1          Pizza  Neapolitan Rice Balls            3.0         Munchables   \n",
       "\n",
       "  how_long_it_took_to_order  pickup_lat  pickup_lon  dropoff_lat  dropoff_lon  \\\n",
       "0           00:19:58.582052   40.744607  -73.990742    40.752073   -73.985370   \n",
       "1           00:25:09.107093   40.723080  -73.994615    40.719722   -73.991858   \n",
       "\n",
       "    when_the_delivery_started when_the_Jumpman_arrived_at_pickup  \\\n",
       "0  2014-10-26 13:51:59.898924                                NaN   \n",
       "1   2014-10-16 21:58:58.65491         2014-10-16 22:26:02.120931   \n",
       "\n",
       "  when_the_Jumpman_left_pickup when_the_Jumpman_arrived_at_dropoff  \n",
       "0                          NaN          2014-10-26 14:52:06.313088  \n",
       "1   2014-10-16 22:48:23.091253          2014-10-16 22:59:22.948873  "
      ]
     },
     "execution_count": 3,
     "metadata": {},
     "output_type": "execute_result"
    }
   ],
   "source": [
    "raw.head(2) # show first two line example"
   ]
  },
  {
   "cell_type": "code",
   "execution_count": 4,
   "metadata": {
    "collapsed": true,
    "deletable": true,
    "editable": true
   },
   "outputs": [],
   "source": [
    "# timestamp data preprocessing\n",
    "raw['how_long_it_took_to_order'] = pd.to_timedelta(raw['how_long_it_took_to_order'],unit='s')\n",
    "raw['when_the_delivery_started'] = pd.to_datetime(raw['when_the_delivery_started'])\n",
    "raw['when_the_Jumpman_arrived_at_pickup'] = pd.to_datetime(raw['when_the_Jumpman_arrived_at_pickup'])\n",
    "raw['when_the_Jumpman_left_pickup'] = pd.to_datetime(raw['when_the_Jumpman_left_pickup'])\n",
    "raw['when_the_Jumpman_arrived_at_dropoff'] = pd.to_datetime(raw['when_the_Jumpman_arrived_at_dropoff'])"
   ]
  },
  {
   "cell_type": "code",
   "execution_count": 5,
   "metadata": {
    "collapsed": false,
    "deletable": true,
    "editable": true
   },
   "outputs": [
    {
     "name": "stdout",
     "output_type": "stream",
     "text": [
      "2014-10-01 00:07:58.632482\n",
      "2014-10-30 23:08:43.481900\n"
     ]
    }
   ],
   "source": [
    "#check date range of the sample data. From the min and max delivery request time we know we are looking at Oct 2014\n",
    "print (raw.when_the_delivery_started.min())\n",
    "print (raw.when_the_delivery_started.max())"
   ]
  },
  {
   "cell_type": "code",
   "execution_count": 6,
   "metadata": {
    "collapsed": false,
    "deletable": true,
    "editable": true
   },
   "outputs": [
    {
     "data": {
      "text/plain": [
       "delivery_id                                      int64\n",
       "customer_id                                      int64\n",
       "jumpman_id                                       int64\n",
       "vehicle_type                                    object\n",
       "pickup_place                                    object\n",
       "place_category                                  object\n",
       "item_name                                       object\n",
       "item_quantity                                  float64\n",
       "item_category_name                              object\n",
       "how_long_it_took_to_order              timedelta64[ns]\n",
       "pickup_lat                                     float64\n",
       "pickup_lon                                     float64\n",
       "dropoff_lat                                    float64\n",
       "dropoff_lon                                    float64\n",
       "when_the_delivery_started               datetime64[ns]\n",
       "when_the_Jumpman_arrived_at_pickup      datetime64[ns]\n",
       "when_the_Jumpman_left_pickup            datetime64[ns]\n",
       "when_the_Jumpman_arrived_at_dropoff     datetime64[ns]\n",
       "dtype: object"
      ]
     },
     "execution_count": 6,
     "metadata": {},
     "output_type": "execute_result"
    }
   ],
   "source": [
    "raw.dtypes # check data types "
   ]
  },
  {
   "cell_type": "markdown",
   "metadata": {
    "deletable": true,
    "editable": true
   },
   "source": [
    "## 1. Data Integrity Investigation"
   ]
  },
  {
   "cell_type": "markdown",
   "metadata": {
    "deletable": true,
    "editable": true
   },
   "source": [
    "### Issue 1. Null Values \n",
    "\n",
    "There are null values in 7 columns out of 18 total columns. The missing values reduce accuracy of analysis and cause bias in analysis \n",
    "\n",
    "The reasons for missing values could be techincal app data engineering issues that cause item details (name, quantity, category etc) not logged into database; alternatively another reason could be human operation problem, for example Jumpman/restaurants not logging in pickup arrival time. "
   ]
  },
  {
   "cell_type": "code",
   "execution_count": 7,
   "metadata": {
    "collapsed": false,
    "deletable": true,
    "editable": true
   },
   "outputs": [
    {
     "data": {
      "text/plain": [
       "delivery_id                            False\n",
       "customer_id                            False\n",
       "jumpman_id                             False\n",
       "vehicle_type                           False\n",
       "pickup_place                           False\n",
       "place_category                          True\n",
       "item_name                               True\n",
       "item_quantity                           True\n",
       "item_category_name                      True\n",
       "how_long_it_took_to_order               True\n",
       "pickup_lat                             False\n",
       "pickup_lon                             False\n",
       "dropoff_lat                            False\n",
       "dropoff_lon                            False\n",
       "when_the_delivery_started              False\n",
       "when_the_Jumpman_arrived_at_pickup      True\n",
       "when_the_Jumpman_left_pickup            True\n",
       "when_the_Jumpman_arrived_at_dropoff    False\n",
       "dtype: bool"
      ]
     },
     "execution_count": 7,
     "metadata": {},
     "output_type": "execute_result"
    }
   ],
   "source": [
    "# check null value for all the columns \n",
    "# True value shows that there are null values in the column\n",
    "raw.isnull().any()"
   ]
  },
  {
   "cell_type": "markdown",
   "metadata": {},
   "source": [
    "### Issue 2. Duplicate values \n",
    "Duplicating values could cause over counting of number of orders, or skew the analysis to put more weight on duplicate entries"
   ]
  },
  {
   "cell_type": "code",
   "execution_count": 8,
   "metadata": {
    "collapsed": false
   },
   "outputs": [
    {
     "name": "stdout",
     "output_type": "stream",
     "text": [
      "True\n"
     ]
    },
    {
     "name": "stderr",
     "output_type": "stream",
     "text": [
      "/home/yshi0521/miniconda3/envs/carnd-term1/lib/python3.5/site-packages/ipykernel/__main__.py:3: FutureWarning: sort(columns=....) is deprecated, use sort_values(by=.....)\n",
      "  app.launch_new_instance()\n"
     ]
    },
    {
     "data": {
      "text/html": [
       "<div>\n",
       "<table border=\"1\" class=\"dataframe\">\n",
       "  <thead>\n",
       "    <tr style=\"text-align: right;\">\n",
       "      <th></th>\n",
       "      <th>delivery_id</th>\n",
       "      <th>customer_id</th>\n",
       "      <th>jumpman_id</th>\n",
       "      <th>vehicle_type</th>\n",
       "      <th>pickup_place</th>\n",
       "      <th>place_category</th>\n",
       "      <th>item_name</th>\n",
       "      <th>item_quantity</th>\n",
       "      <th>item_category_name</th>\n",
       "      <th>how_long_it_took_to_order</th>\n",
       "      <th>pickup_lat</th>\n",
       "      <th>pickup_lon</th>\n",
       "      <th>dropoff_lat</th>\n",
       "      <th>dropoff_lon</th>\n",
       "      <th>when_the_delivery_started</th>\n",
       "      <th>when_the_Jumpman_arrived_at_pickup</th>\n",
       "      <th>when_the_Jumpman_left_pickup</th>\n",
       "      <th>when_the_Jumpman_arrived_at_dropoff</th>\n",
       "    </tr>\n",
       "  </thead>\n",
       "  <tbody>\n",
       "    <tr>\n",
       "      <th>2302</th>\n",
       "      <td>1274791</td>\n",
       "      <td>59749</td>\n",
       "      <td>61162</td>\n",
       "      <td>bicycle</td>\n",
       "      <td>Bareburger</td>\n",
       "      <td>Burger</td>\n",
       "      <td>Barest Burger</td>\n",
       "      <td>1.0</td>\n",
       "      <td>Bareburgers</td>\n",
       "      <td>00:04:00.459294</td>\n",
       "      <td>40.768489</td>\n",
       "      <td>-73.955182</td>\n",
       "      <td>40.784797</td>\n",
       "      <td>-73.953658</td>\n",
       "      <td>2014-10-01 19:06:44.910149</td>\n",
       "      <td>2014-10-01 19:31:56.005935</td>\n",
       "      <td>2014-10-01 19:37:43.279843</td>\n",
       "      <td>2014-10-01 19:51:34.162880</td>\n",
       "    </tr>\n",
       "    <tr>\n",
       "      <th>1967</th>\n",
       "      <td>1274791</td>\n",
       "      <td>59749</td>\n",
       "      <td>61162</td>\n",
       "      <td>bicycle</td>\n",
       "      <td>Bareburger</td>\n",
       "      <td>Burger</td>\n",
       "      <td>Barest Burger</td>\n",
       "      <td>1.0</td>\n",
       "      <td>Bareburgers</td>\n",
       "      <td>00:04:00.459294</td>\n",
       "      <td>40.768489</td>\n",
       "      <td>-73.955182</td>\n",
       "      <td>40.784797</td>\n",
       "      <td>-73.953658</td>\n",
       "      <td>2014-10-01 19:06:44.910149</td>\n",
       "      <td>2014-10-01 19:31:56.005935</td>\n",
       "      <td>2014-10-01 19:37:43.279843</td>\n",
       "      <td>2014-10-01 19:51:34.162880</td>\n",
       "    </tr>\n",
       "  </tbody>\n",
       "</table>\n",
       "</div>"
      ],
      "text/plain": [
       "      delivery_id  customer_id  jumpman_id vehicle_type pickup_place  \\\n",
       "2302      1274791        59749       61162      bicycle   Bareburger   \n",
       "1967      1274791        59749       61162      bicycle   Bareburger   \n",
       "\n",
       "     place_category      item_name  item_quantity item_category_name  \\\n",
       "2302         Burger  Barest Burger            1.0        Bareburgers   \n",
       "1967         Burger  Barest Burger            1.0        Bareburgers   \n",
       "\n",
       "      how_long_it_took_to_order  pickup_lat  pickup_lon  dropoff_lat  \\\n",
       "2302            00:04:00.459294   40.768489  -73.955182    40.784797   \n",
       "1967            00:04:00.459294   40.768489  -73.955182    40.784797   \n",
       "\n",
       "      dropoff_lon  when_the_delivery_started  \\\n",
       "2302   -73.953658 2014-10-01 19:06:44.910149   \n",
       "1967   -73.953658 2014-10-01 19:06:44.910149   \n",
       "\n",
       "     when_the_Jumpman_arrived_at_pickup when_the_Jumpman_left_pickup  \\\n",
       "2302         2014-10-01 19:31:56.005935   2014-10-01 19:37:43.279843   \n",
       "1967         2014-10-01 19:31:56.005935   2014-10-01 19:37:43.279843   \n",
       "\n",
       "     when_the_Jumpman_arrived_at_dropoff  \n",
       "2302          2014-10-01 19:51:34.162880  \n",
       "1967          2014-10-01 19:51:34.162880  "
      ]
     },
     "execution_count": 8,
     "metadata": {},
     "output_type": "execute_result"
    }
   ],
   "source": [
    "# check if there are duplicate values in the data \n",
    "print (raw.duplicated().any()) # True shows there are duplicate rows\n",
    "raw[raw.duplicated(keep=False)].sort('delivery_id').head(2)"
   ]
  },
  {
   "cell_type": "code",
   "execution_count": 9,
   "metadata": {
    "collapsed": true
   },
   "outputs": [],
   "source": [
    "raw=raw.drop_duplicates() #dropping duplicates"
   ]
  },
  {
   "cell_type": "markdown",
   "metadata": {
    "deletable": true,
    "editable": true
   },
   "source": [
    "### Issue 3. Unclear definition of delivery timestamp. \n",
    "Column 'when_the_delivery_started' is not well defined. According to the documentation the column is \"localized timestamp representing when the delivery began\". In actual data, it is sometimes before Jumpman arrived at pickup, and sometimes after they arrived at pickup.  \n",
    "\n",
    "If we cannot measure delivery start time, we won't be able to understand from customer standpoint, how long it actually takes to get the order delivered (In the later analysis, we will discuss from logistic standpoint, how long it takes for Jumpman to get item at pickup location, and how long it takes to spend on road).It could also cause problem such as misinterpretation and misuse of same data set across different teams\n",
    "\n",
    "To address the issue, we may either look into the data logging logic and check system bugs, or better define what is 'when_the_delivery_started' (Whether it's when user first place order on app, or when delivery place like restaurants confirm order notice and process order)"
   ]
  },
  {
   "cell_type": "code",
   "execution_count": 10,
   "metadata": {
    "collapsed": false
   },
   "outputs": [
    {
     "name": "stdout",
     "output_type": "stream",
     "text": [
      "Sequence of delivery start time and Jumpman left pickup time consistent? \n",
      "a.k.a. delivery always start before/after Jumpman left pickup place?\n",
      "False\n"
     ]
    }
   ],
   "source": [
    "print ('Sequence of delivery start time and Jumpman left pickup time consistent? \\na.k.a. delivery always start before/after Jumpman left pickup place?')\n",
    "print ((raw['when_the_delivery_started']<=raw['when_the_Jumpman_left_pickup']).all())"
   ]
  },
  {
   "cell_type": "markdown",
   "metadata": {},
   "source": [
    "### Issue 4. Duplicate categories for same place and item\n",
    "Missclassification of places and items can cause inconsistency when analyze aggregate product information, such as what are the most popular type of places, etc. Another issue identified is that duplicate categories cause same delivery_id entered twice, which will also cause bias"
   ]
  },
  {
   "cell_type": "code",
   "execution_count": 11,
   "metadata": {
    "collapsed": false
   },
   "outputs": [
    {
     "name": "stdout",
     "output_type": "stream",
     "text": [
      "5 total places with duplicate categories\n",
      "Identified places with inconsistent categories (example):\n",
      "\n",
      "5 Napkin Burger: {'American', 'Burger'}\n",
      "Pinkberry: {'Dessert', 'Ice Cream'}\n",
      "Socarrat Paella Bar: {'South American', 'Spanish'}\n",
      "-----------------------------------------------------------------\n",
      "181 total items with duplicate categories\n",
      "Identified items with inconsistent categories (example):\n",
      "\n",
      "Adult Grilled Cheese: {'Main', 'Entrees'}\n",
      "Apple Pie: {'Pie', 'Desserts'}\n",
      "Arnold Palmer: {'Juice', 'Drinks'}\n"
     ]
    }
   ],
   "source": [
    "check_place_category=raw.groupby('pickup_place').agg({\"place_category\": lambda x: x.nunique()})\n",
    "duplicate_place_category=check_place_category[check_place_category.place_category>1]\n",
    "print ('%.0f total places with duplicate categories' % len(duplicate_place_category))\n",
    "print ('Identified places with inconsistent categories (example):\\n')\n",
    "for place in duplicate_place_category.index[:3]:\n",
    "    print (place+': '+str(set(raw[raw['pickup_place']==place]['place_category'])))\n",
    "\n",
    "check_item_category=raw[raw.item_category_name.notnull()].groupby('item_name').agg({\"item_category_name\": lambda x: x.nunique()})\n",
    "duplicate_item_category=check_item_category[check_item_category.item_category_name>1]\n",
    "print ('-----------------------------------------------------------------')\n",
    "print ('%.0f total items with duplicate categories' % len(duplicate_item_category))\n",
    "print ('Identified items with inconsistent categories (example):\\n')\n",
    "for item in duplicate_item_category.index[:3]:\n",
    "    print (item+': '+str(set(raw[raw['item_name']==item]['item_category_name'])))"
   ]
  },
  {
   "cell_type": "code",
   "execution_count": 12,
   "metadata": {
    "collapsed": false
   },
   "outputs": [
    {
     "name": "stdout",
     "output_type": "stream",
     "text": [
      "True\n"
     ]
    },
    {
     "name": "stderr",
     "output_type": "stream",
     "text": [
      "/home/yshi0521/miniconda3/envs/carnd-term1/lib/python3.5/site-packages/ipykernel/__main__.py:2: FutureWarning: sort(columns=....) is deprecated, use sort_values(by=.....)\n",
      "  from ipykernel import kernelapp as app\n"
     ]
    },
    {
     "data": {
      "text/html": [
       "<div>\n",
       "<table border=\"1\" class=\"dataframe\">\n",
       "  <thead>\n",
       "    <tr style=\"text-align: right;\">\n",
       "      <th></th>\n",
       "      <th>delivery_id</th>\n",
       "      <th>customer_id</th>\n",
       "      <th>jumpman_id</th>\n",
       "      <th>vehicle_type</th>\n",
       "      <th>pickup_place</th>\n",
       "      <th>place_category</th>\n",
       "      <th>item_name</th>\n",
       "      <th>item_quantity</th>\n",
       "      <th>item_category_name</th>\n",
       "      <th>how_long_it_took_to_order</th>\n",
       "      <th>pickup_lat</th>\n",
       "      <th>pickup_lon</th>\n",
       "      <th>dropoff_lat</th>\n",
       "      <th>dropoff_lon</th>\n",
       "      <th>when_the_delivery_started</th>\n",
       "      <th>when_the_Jumpman_arrived_at_pickup</th>\n",
       "      <th>when_the_Jumpman_left_pickup</th>\n",
       "      <th>when_the_Jumpman_arrived_at_dropoff</th>\n",
       "    </tr>\n",
       "  </thead>\n",
       "  <tbody>\n",
       "    <tr>\n",
       "      <th>5080</th>\n",
       "      <td>1272701</td>\n",
       "      <td>81085</td>\n",
       "      <td>112646</td>\n",
       "      <td>bicycle</td>\n",
       "      <td>Mighty Quinn's BBQ</td>\n",
       "      <td>BBQ</td>\n",
       "      <td>Housemade Iced Tea</td>\n",
       "      <td>1.0</td>\n",
       "      <td>Beverages</td>\n",
       "      <td>NaT</td>\n",
       "      <td>40.727519</td>\n",
       "      <td>-73.988671</td>\n",
       "      <td>40.723962</td>\n",
       "      <td>-73.993393</td>\n",
       "      <td>2014-10-01 12:12:24.393054</td>\n",
       "      <td>2014-10-01 12:17:22.929789</td>\n",
       "      <td>2014-10-01 12:27:42.369732</td>\n",
       "      <td>2014-10-01 12:34:27.142996</td>\n",
       "    </tr>\n",
       "    <tr>\n",
       "      <th>1008</th>\n",
       "      <td>1272701</td>\n",
       "      <td>81085</td>\n",
       "      <td>112646</td>\n",
       "      <td>bicycle</td>\n",
       "      <td>Mighty Quinn's BBQ</td>\n",
       "      <td>BBQ</td>\n",
       "      <td>Brisket</td>\n",
       "      <td>1.0</td>\n",
       "      <td>Meats</td>\n",
       "      <td>NaT</td>\n",
       "      <td>40.727519</td>\n",
       "      <td>-73.988671</td>\n",
       "      <td>40.723962</td>\n",
       "      <td>-73.993393</td>\n",
       "      <td>2014-10-01 12:12:24.393054</td>\n",
       "      <td>2014-10-01 12:17:22.929789</td>\n",
       "      <td>2014-10-01 12:27:42.369732</td>\n",
       "      <td>2014-10-01 12:34:27.142996</td>\n",
       "    </tr>\n",
       "  </tbody>\n",
       "</table>\n",
       "</div>"
      ],
      "text/plain": [
       "      delivery_id  customer_id  jumpman_id vehicle_type        pickup_place  \\\n",
       "5080      1272701        81085      112646      bicycle  Mighty Quinn's BBQ   \n",
       "1008      1272701        81085      112646      bicycle  Mighty Quinn's BBQ   \n",
       "\n",
       "     place_category           item_name  item_quantity item_category_name  \\\n",
       "5080            BBQ  Housemade Iced Tea            1.0          Beverages   \n",
       "1008            BBQ             Brisket            1.0              Meats   \n",
       "\n",
       "      how_long_it_took_to_order  pickup_lat  pickup_lon  dropoff_lat  \\\n",
       "5080                        NaT   40.727519  -73.988671    40.723962   \n",
       "1008                        NaT   40.727519  -73.988671    40.723962   \n",
       "\n",
       "      dropoff_lon  when_the_delivery_started  \\\n",
       "5080   -73.993393 2014-10-01 12:12:24.393054   \n",
       "1008   -73.993393 2014-10-01 12:12:24.393054   \n",
       "\n",
       "     when_the_Jumpman_arrived_at_pickup when_the_Jumpman_left_pickup  \\\n",
       "5080         2014-10-01 12:17:22.929789   2014-10-01 12:27:42.369732   \n",
       "1008         2014-10-01 12:17:22.929789   2014-10-01 12:27:42.369732   \n",
       "\n",
       "     when_the_Jumpman_arrived_at_dropoff  \n",
       "5080          2014-10-01 12:34:27.142996  \n",
       "1008          2014-10-01 12:34:27.142996  "
      ]
     },
     "execution_count": 12,
     "metadata": {},
     "output_type": "execute_result"
    }
   ],
   "source": [
    "print (raw.duplicated(['delivery_id']).any()) # True shows there are duplicate rows\n",
    "raw[raw.duplicated('delivery_id',keep=False)].sort('delivery_id').head(2)"
   ]
  },
  {
   "cell_type": "code",
   "execution_count": 13,
   "metadata": {
    "collapsed": false
   },
   "outputs": [],
   "source": [
    "raw=raw.drop_duplicates('delivery_id')"
   ]
  },
  {
   "cell_type": "markdown",
   "metadata": {},
   "source": [
    "### Other Data Integrity Checks"
   ]
  },
  {
   "cell_type": "markdown",
   "metadata": {},
   "source": [
    "#1. Check unusual values \n",
    "\n",
    "Max value of how_long_it_took_to_order could be an outlier, if the column means time user spend just browsing the app\n"
   ]
  },
  {
   "cell_type": "code",
   "execution_count": 14,
   "metadata": {
    "collapsed": false
   },
   "outputs": [
    {
     "data": {
      "text/html": [
       "<div>\n",
       "<table border=\"1\" class=\"dataframe\">\n",
       "  <thead>\n",
       "    <tr style=\"text-align: right;\">\n",
       "      <th></th>\n",
       "      <th>item_quantity</th>\n",
       "      <th>how_long_it_took_to_order</th>\n",
       "    </tr>\n",
       "  </thead>\n",
       "  <tbody>\n",
       "    <tr>\n",
       "      <th>count</th>\n",
       "      <td>3984.000000</td>\n",
       "      <td>2579</td>\n",
       "    </tr>\n",
       "    <tr>\n",
       "      <th>mean</th>\n",
       "      <td>1.245231</td>\n",
       "      <td>0 days 00:07:41.938096</td>\n",
       "    </tr>\n",
       "    <tr>\n",
       "      <th>std</th>\n",
       "      <td>0.781632</td>\n",
       "      <td>0 days 00:05:42.725717</td>\n",
       "    </tr>\n",
       "    <tr>\n",
       "      <th>min</th>\n",
       "      <td>1.000000</td>\n",
       "      <td>0 days 00:01:22.997519</td>\n",
       "    </tr>\n",
       "    <tr>\n",
       "      <th>25%</th>\n",
       "      <td>1.000000</td>\n",
       "      <td>0 days 00:04:21.593593</td>\n",
       "    </tr>\n",
       "    <tr>\n",
       "      <th>50%</th>\n",
       "      <td>1.000000</td>\n",
       "      <td>0 days 00:06:09.110815</td>\n",
       "    </tr>\n",
       "    <tr>\n",
       "      <th>75%</th>\n",
       "      <td>1.000000</td>\n",
       "      <td>0 days 00:09:02.070846</td>\n",
       "    </tr>\n",
       "    <tr>\n",
       "      <th>max</th>\n",
       "      <td>16.000000</td>\n",
       "      <td>0 days 01:13:13.266118</td>\n",
       "    </tr>\n",
       "  </tbody>\n",
       "</table>\n",
       "</div>"
      ],
      "text/plain": [
       "       item_quantity how_long_it_took_to_order\n",
       "count    3984.000000                      2579\n",
       "mean        1.245231    0 days 00:07:41.938096\n",
       "std         0.781632    0 days 00:05:42.725717\n",
       "min         1.000000    0 days 00:01:22.997519\n",
       "25%         1.000000    0 days 00:04:21.593593\n",
       "50%         1.000000    0 days 00:06:09.110815\n",
       "75%         1.000000    0 days 00:09:02.070846\n",
       "max        16.000000    0 days 01:13:13.266118"
      ]
     },
     "execution_count": 14,
     "metadata": {},
     "output_type": "execute_result"
    }
   ],
   "source": [
    "# check no outliers for numerical variables, including item_quantity and how long it took to order\n",
    "raw[['item_quantity','how_long_it_took_to_order']].describe()"
   ]
  },
  {
   "cell_type": "markdown",
   "metadata": {},
   "source": [
    "#2.Provide further explanation on How_long_it_took_to_order. \n",
    "\n",
    "Currently it's documented as \"how long it took to place the order [interval]\", which could mean both how long customer navigate the app before placing the order, how long places (e.g. restaurants) process orders, etc"
   ]
  },
  {
   "cell_type": "markdown",
   "metadata": {
    "deletable": true,
    "editable": true
   },
   "source": [
    "## 2. NYC City Performance Analysis \n",
    "\n",
    "This analysis evaluates the NYC business performance from four aspects:\n",
    "\n",
    "- Demand Analysis\n",
    "- Customer Profile\n",
    "- Delivery Performance \n",
    "- Place Partnership \n"
   ]
  },
  {
   "cell_type": "markdown",
   "metadata": {},
   "source": [
    "### I. Demand Analysis\n",
    "\n",
    "Here is a screenshot of demand visualization in Tableau dashboard. \n",
    "- Upper left side map shows where items were ordered,and upper right side map shows where items were delivered to, either in aggregate or on hourly basis. \n",
    "- To see the demand pattern on hourly basis, move the slider on the lower left side (hour in day defined by 0 - 24). \n",
    "- The two line chart on the lower right side are static image. The first one shows average daily deliveries completed by hour, and second one shows average time Jumpman (courier) spent at pickup locations and on road. \n",
    "\n",
    "*The pre-processing code is attached in the appendix at bottom of this notebook, and the tableau workbook is included in the same folder submitted.  "
   ]
  },
  {
   "cell_type": "markdown",
   "metadata": {},
   "source": [
    "![demand](DemandScreenshot.JPG)"
   ]
  },
  {
   "cell_type": "markdown",
   "metadata": {},
   "source": [
    "Insights into the NYC demand:\n",
    "\n",
    "#1 The most popular places that take delivery orders are in lower Manhattan, including areas such as SOHO and Greenwich Village. The customer locations are more spread out, but still mostly located in lower Manhattan. \n",
    "\n",
    "#2 12pm and 5pm-9pm are usually high demand time\n",
    "\n",
    "#3 Weekday/weekend demand patterns are similar. Weekend has slightly higher peak demand, and higher demand than weekday in early afternoon (1pm-5pm)\n",
    "(as shown in the following image)"
   ]
  },
  {
   "cell_type": "markdown",
   "metadata": {},
   "source": [
    "<img src=\"WeekendWeekdayComparison.JPG\" style=\"width: 600px;\"/>"
   ]
  },
  {
   "cell_type": "markdown",
   "metadata": {},
   "source": [
    "This demand analysis is important because it shows WHEN and WHERE the demand occurs. We can use this information to identify areas of partnership opportunties (with restaurants etc), optimize courier network, and improve customer experience in terms of delivery wait time. "
   ]
  },
  {
   "cell_type": "markdown",
   "metadata": {
    "deletable": true,
    "editable": true
   },
   "source": [
    "### II. Customer Profile\n",
    "\n",
    "The following table segmented customers by # orders they have placed in the sample month, which can also indicate APRU (average revenue per user) if given transaction values. This is an important KPI that present current customer values. The table shows that 61% of total customers only order on Jumpman32 once, 20% of total customers order twice, and rest 19% customer are loyal customers order more than 3 times."
   ]
  },
  {
   "cell_type": "code",
   "execution_count": 16,
   "metadata": {
    "collapsed": false,
    "deletable": true,
    "editable": true
   },
   "outputs": [
    {
     "data": {
      "text/html": [
       "<div>\n",
       "<table border=\"1\" class=\"dataframe\">\n",
       "  <thead>\n",
       "    <tr style=\"text-align: right;\">\n",
       "      <th></th>\n",
       "      <th>number_of_customers</th>\n",
       "      <th>%_total_customer</th>\n",
       "    </tr>\n",
       "    <tr>\n",
       "      <th>order_count</th>\n",
       "      <th></th>\n",
       "      <th></th>\n",
       "    </tr>\n",
       "  </thead>\n",
       "  <tbody>\n",
       "    <tr>\n",
       "      <th>1</th>\n",
       "      <td>2216</td>\n",
       "      <td>0.694236</td>\n",
       "    </tr>\n",
       "    <tr>\n",
       "      <th>2</th>\n",
       "      <td>512</td>\n",
       "      <td>0.160401</td>\n",
       "    </tr>\n",
       "    <tr>\n",
       "      <th>3</th>\n",
       "      <td>232</td>\n",
       "      <td>0.072682</td>\n",
       "    </tr>\n",
       "    <tr>\n",
       "      <th>4</th>\n",
       "      <td>106</td>\n",
       "      <td>0.033208</td>\n",
       "    </tr>\n",
       "    <tr>\n",
       "      <th>5</th>\n",
       "      <td>54</td>\n",
       "      <td>0.016917</td>\n",
       "    </tr>\n",
       "  </tbody>\n",
       "</table>\n",
       "</div>"
      ],
      "text/plain": [
       "             number_of_customers  %_total_customer\n",
       "order_count                                       \n",
       "1                           2216          0.694236\n",
       "2                            512          0.160401\n",
       "3                            232          0.072682\n",
       "4                            106          0.033208\n",
       "5                             54          0.016917"
      ]
     },
     "execution_count": 16,
     "metadata": {},
     "output_type": "execute_result"
    }
   ],
   "source": [
    "# distribution of number of orders per customer in table\n",
    "customerID_order=raw.groupby('customer_id').delivery_id.count()\n",
    "customerID_order_count=pd.DataFrame(customerID_order).rename(columns={'delivery_id':'order_count'}).reset_index()\n",
    "loyalty_segment=customerID_order_count.groupby('order_count').count().rename(columns={'customer_id':'number_of_customers'})\n",
    "loyalty_segment['%_total_customer']=loyalty_segment.apply(lambda x:x/sum(x))\n",
    "loyalty_segment.head(5) # just show the first 5 rows as example"
   ]
  },
  {
   "cell_type": "markdown",
   "metadata": {},
   "source": [
    "The goal for business expansion is to \n",
    "- Increase customer purchase frequency (fatter tail in the histogram shown below)\n",
    "- Acquire more customers with reasonable customer acquisition cost (longer y-axis)"
   ]
  },
  {
   "cell_type": "code",
   "execution_count": 17,
   "metadata": {
    "collapsed": false
   },
   "outputs": [
    {
     "data": {
      "text/plain": [
       "<matplotlib.axes._subplots.AxesSubplot at 0x7f8687ec75c0>"
      ]
     },
     "execution_count": 17,
     "metadata": {},
     "output_type": "execute_result"
    },
    {
     "data": {
      "image/png": "[encoded data removed]",
      "text/plain": [
       "<matplotlib.figure.Figure at 0x7f8687841ac8>"
      ]
     },
     "metadata": {},
     "output_type": "display_data"
    }
   ],
   "source": [
    "# distribution of number of orders per customer in histogram\n",
    "customerID_order.hist(bins=30)"
   ]
  },
  {
   "cell_type": "markdown",
   "metadata": {
    "deletable": true,
    "editable": true
   },
   "source": [
    "## III. Delivery Performance\n",
    "\n",
    "In terms of delivery performance, I analyzed both delivery time details, vehicle type analysis, and Jumpman relationship. "
   ]
  },
  {
   "cell_type": "markdown",
   "metadata": {},
   "source": [
    "#### 1) Time breakdown of different stages of delivery shows:\n",
    "\n",
    "- average time at pickup: 18 minutes\n",
    "- average time on road:   14 minutes\n",
    "\n",
    "It indicates that more time is spent at pickup locations than on road, we may need to have operation look for opportunities for cutting pickup time, so as to optimize Jumpman courier utilization rate, and also shortern customer wait time. Potential issues could be dispatching Jumpman too early to the pickup place before item is ready, or inefficiencies during Jumpman interaction with staff at pickup places.\n"
   ]
  },
  {
   "cell_type": "code",
   "execution_count": 18,
   "metadata": {
    "collapsed": false,
    "deletable": true,
    "editable": true
   },
   "outputs": [
    {
     "name": "stdout",
     "output_type": "stream",
     "text": [
      "Analyze on 0.905063 percent valid time records with no missing value\n",
      "\n",
      "average time at pickup is 18.283333 minutes\n",
      "average time on road is 14.033333 minutes\n"
     ]
    }
   ],
   "source": [
    "# check time breakdown of different stages of delivery\n",
    "df_time=raw[['delivery_id','pickup_place','jumpman_id','vehicle_type',\\\n",
    "             'when_the_Jumpman_left_pickup','when_the_Jumpman_arrived_at_pickup',\\\n",
    "             'when_the_Jumpman_arrived_at_dropoff']].dropna()\n",
    "print ('Analyze on %f percent valid time records with no missing value\\n' %(len(df_time)/len(raw))) \n",
    "\n",
    "df_time['time_at_pickup']=df_time['when_the_Jumpman_left_pickup']-df_time['when_the_Jumpman_arrived_at_pickup']\n",
    "df_time['time_on_road']=df_time['when_the_Jumpman_arrived_at_dropoff']-df_time['when_the_Jumpman_left_pickup']\n",
    "print ('average time at pickup is %f minutes' % (df_time['time_at_pickup'].mean().seconds/60))\n",
    "print ('average time on road is %f minutes' % (df_time['time_on_road'].mean().seconds/60))"
   ]
  },
  {
   "cell_type": "markdown",
   "metadata": {},
   "source": [
    "#### 2) Deliveries conducted by different vehicle types\n",
    "\n",
    "As shown in the table below, bikers and cars are top transportation mode used by Jumpman. \n",
    "- Number of biker couriers are ~4 times of car drivers\n",
    "- Bikers deliveries is about ~3.5 times car driver deliveries\n",
    "- The bike mode is also faster, on average delivery time is ~4 mins shorter than car. \n",
    "\n",
    "Given assumption that item quality won't change (food or drinks won't spill worse than car), bikes should continue to be considered as the most recommended courier transportation mode."
   ]
  },
  {
   "cell_type": "code",
   "execution_count": 19,
   "metadata": {
    "collapsed": false,
    "deletable": true,
    "editable": true
   },
   "outputs": [
    {
     "data": {
      "text/html": [
       "<div>\n",
       "<table border=\"1\" class=\"dataframe\">\n",
       "  <thead>\n",
       "    <tr style=\"text-align: right;\">\n",
       "      <th></th>\n",
       "      <th>vehicle_type</th>\n",
       "      <th>jumpman_count</th>\n",
       "      <th>delivery_count</th>\n",
       "      <th>average_time</th>\n",
       "    </tr>\n",
       "  </thead>\n",
       "  <tbody>\n",
       "    <tr>\n",
       "      <th>0</th>\n",
       "      <td>bicycle</td>\n",
       "      <td>410</td>\n",
       "      <td>3373</td>\n",
       "      <td>00:13:04.964346</td>\n",
       "    </tr>\n",
       "    <tr>\n",
       "      <th>1</th>\n",
       "      <td>car</td>\n",
       "      <td>114</td>\n",
       "      <td>967</td>\n",
       "      <td>00:16:54.451118</td>\n",
       "    </tr>\n",
       "    <tr>\n",
       "      <th>2</th>\n",
       "      <td>motorcycle</td>\n",
       "      <td>4</td>\n",
       "      <td>18</td>\n",
       "      <td>00:12:42.139016</td>\n",
       "    </tr>\n",
       "    <tr>\n",
       "      <th>3</th>\n",
       "      <td>scooter</td>\n",
       "      <td>6</td>\n",
       "      <td>58</td>\n",
       "      <td>00:12:49.827885</td>\n",
       "    </tr>\n",
       "    <tr>\n",
       "      <th>4</th>\n",
       "      <td>truck</td>\n",
       "      <td>5</td>\n",
       "      <td>34</td>\n",
       "      <td>00:24:50.410877</td>\n",
       "    </tr>\n",
       "    <tr>\n",
       "      <th>5</th>\n",
       "      <td>van</td>\n",
       "      <td>8</td>\n",
       "      <td>60</td>\n",
       "      <td>00:16:45.143715</td>\n",
       "    </tr>\n",
       "    <tr>\n",
       "      <th>6</th>\n",
       "      <td>walker</td>\n",
       "      <td>18</td>\n",
       "      <td>209</td>\n",
       "      <td>00:14:10.213433</td>\n",
       "    </tr>\n",
       "  </tbody>\n",
       "</table>\n",
       "</div>"
      ],
      "text/plain": [
       "  vehicle_type  jumpman_count  delivery_count    average_time\n",
       "0      bicycle            410            3373 00:13:04.964346\n",
       "1          car            114             967 00:16:54.451118\n",
       "2   motorcycle              4              18 00:12:42.139016\n",
       "3      scooter              6              58 00:12:49.827885\n",
       "4        truck              5              34 00:24:50.410877\n",
       "5          van              8              60 00:16:45.143715\n",
       "6       walker             18             209 00:14:10.213433"
      ]
     },
     "execution_count": 19,
     "metadata": {},
     "output_type": "execute_result"
    }
   ],
   "source": [
    "#deliveries conducted by different vehicle types\n",
    "#number of jumpman using different types of vehicles \n",
    "jumpman_vehicle=df_time.groupby('vehicle_type').jumpman_id.nunique().reset_index().rename(columns={'jumpman_id':'jumpman_count'})\n",
    "#number of deliveries finished by each types of vehicles\n",
    "delivery_vehicle=df_time.groupby('vehicle_type').delivery_id.nunique().reset_index().rename(columns={'delivery_id':'delivery_count'})\n",
    "#average time on road (efficiency) for vehicle types \n",
    "time_vehicle=(df_time.groupby('vehicle_type').time_on_road.sum()/df_time.groupby('vehicle_type').time_on_road.count()).reset_index().rename(columns={'time_on_road':'average_time'})\n",
    "vehicle_summary=jumpman_vehicle.merge(delivery_vehicle).merge(time_vehicle)\n",
    "vehicle_summary"
   ]
  },
  {
   "cell_type": "markdown",
   "metadata": {},
   "source": [
    "#### 3) Jumpman profile\n",
    "\n",
    "The following table segmented Jumpman by number of orders they have delivered in the sample month. 71% Jumpman delivered up to 10 times on the platform, other 29% Jumpman are frequent couriers that deliver more than 10 times a month. \n",
    "\n",
    "To reach supply-demand balance, (number of Jumpman * active time Jumpman stays on the app platform) should be able to satisfy customer delivery demand, while reaching reasonable Jumpman utilization rate so as to provide incentive for our Jumpman partners.\n"
   ]
  },
  {
   "cell_type": "code",
   "execution_count": 20,
   "metadata": {
    "collapsed": false,
    "deletable": true,
    "editable": true
   },
   "outputs": [
    {
     "data": {
      "text/html": [
       "<div>\n",
       "<table border=\"1\" class=\"dataframe\">\n",
       "  <thead>\n",
       "    <tr style=\"text-align: right;\">\n",
       "      <th></th>\n",
       "      <th>jumpman_count</th>\n",
       "      <th>%_total_jumpman</th>\n",
       "    </tr>\n",
       "    <tr>\n",
       "      <th>delivery_count</th>\n",
       "      <th></th>\n",
       "      <th></th>\n",
       "    </tr>\n",
       "  </thead>\n",
       "  <tbody>\n",
       "    <tr>\n",
       "      <th>(0, 10]</th>\n",
       "      <td>408</td>\n",
       "      <td>0.705882</td>\n",
       "    </tr>\n",
       "    <tr>\n",
       "      <th>(10, 20]</th>\n",
       "      <td>107</td>\n",
       "      <td>0.185121</td>\n",
       "    </tr>\n",
       "    <tr>\n",
       "      <th>(20, 30]</th>\n",
       "      <td>38</td>\n",
       "      <td>0.065744</td>\n",
       "    </tr>\n",
       "    <tr>\n",
       "      <th>(40, 50]</th>\n",
       "      <td>13</td>\n",
       "      <td>0.022491</td>\n",
       "    </tr>\n",
       "    <tr>\n",
       "      <th>(30, 40]</th>\n",
       "      <td>8</td>\n",
       "      <td>0.013841</td>\n",
       "    </tr>\n",
       "  </tbody>\n",
       "</table>\n",
       "</div>"
      ],
      "text/plain": [
       "                jumpman_count  %_total_jumpman\n",
       "delivery_count                                \n",
       "(0, 10]                   408         0.705882\n",
       "(10, 20]                  107         0.185121\n",
       "(20, 30]                   38         0.065744\n",
       "(40, 50]                   13         0.022491\n",
       "(30, 40]                    8         0.013841"
      ]
     },
     "execution_count": 20,
     "metadata": {},
     "output_type": "execute_result"
    },
    {
     "data": {
      "image/png": "[encoded data removed]",
      "text/plain": [
       "<matplotlib.figure.Figure at 0x7f8687e0f080>"
      ]
     },
     "metadata": {},
     "output_type": "display_data"
    }
   ],
   "source": [
    "# distribution of number of orders per Jumpman\n",
    "JumpmanID_order=raw.groupby(['jumpman_id']).delivery_id.count() # Number of deliveries by jumpman id\n",
    "JumpmanID_order.hist() #histogram\n",
    "JumpmanID_order_count=pd.DataFrame(JumpmanID_order).rename(columns={'delivery_id':'delivery_count'}).reset_index()\n",
    "Jumpman_loyalty_segment=JumpmanID_order_count.groupby(\\\n",
    "                        pd.cut(JumpmanID_order_count[\"delivery_count\"], np.arange(0, 100, 10))).\\\n",
    "                        count().rename(columns={'jumpman_id':'jumpman_count'})[['jumpman_count']]\n",
    "Jumpman_loyalty_segment\n",
    "Jumpman_loyalty_segment['%_total_jumpman']=Jumpman_loyalty_segment.apply(lambda x:x/sum(x))\n",
    "Jumpman_loyalty_segment.sort_values(by='%_total_jumpman',ascending=False).head()"
   ]
  },
  {
   "cell_type": "markdown",
   "metadata": {},
   "source": [
    "### IV. Place Partnership\n",
    "\n",
    "The following table shows 10 most popular places and 10 least popular places to order. Restuarant and grocery delivery are main items on demand, other non-food items are least ordered through Jumpman32. \n",
    "\n",
    "It could due to lack of marketing exposure of non-food delivery services, small number of partnership Jumpman32 established with different product providers, or particular segment of customers Jumpman32 is missing when conducting customer acquisition. We need further data to investigate what is the exact reason, and provide actionable suggestions. \n",
    "\n",
    "\n"
   ]
  },
  {
   "cell_type": "code",
   "execution_count": 21,
   "metadata": {
    "collapsed": false,
    "deletable": true,
    "editable": true
   },
   "outputs": [
    {
     "name": "stdout",
     "output_type": "stream",
     "text": [
      "10 most popular categories\n",
      "place_category\n",
      "Italian          437\n",
      "Burger           395\n",
      "American         357\n",
      "Japanese         335\n",
      "Dessert          277\n",
      "Chinese          265\n",
      "Sushi            203\n",
      "Salad            192\n",
      "Mexican          165\n",
      "Grocery Store    130\n",
      "Name: delivery_id, dtype: int64\n"
     ]
    }
   ],
   "source": [
    "place_order_count=raw.groupby(['place_category']).delivery_id.count().sort_values(ascending=False)\n",
    "print ('10 most popular categories')\n",
    "print (place_order_count.head(10))"
   ]
  },
  {
   "cell_type": "code",
   "execution_count": 22,
   "metadata": {
    "collapsed": false
   },
   "outputs": [
    {
     "name": "stdout",
     "output_type": "stream",
     "text": [
      "\n",
      "10 least popular categories\n",
      "place_category\n",
      "Specialty Store       5\n",
      "German                4\n",
      "Kids & Baby           3\n",
      "Beauty Supply         2\n",
      "Clothing              1\n",
      "Book Store            1\n",
      "Pet Supplies Store    1\n",
      "Restaurant            1\n",
      "Art Store             1\n",
      "African               1\n",
      "Name: delivery_id, dtype: int64\n"
     ]
    }
   ],
   "source": [
    "print ('\\n10 least popular categories')\n",
    "print (place_order_count.tail(10))"
   ]
  },
  {
   "cell_type": "code",
   "execution_count": null,
   "metadata": {
    "collapsed": true
   },
   "outputs": [],
   "source": []
  },
  {
   "cell_type": "markdown",
   "metadata": {
    "deletable": true,
    "editable": true
   },
   "source": [
    "### Appendix Demand analysis "
   ]
  },
  {
   "cell_type": "code",
   "execution_count": 23,
   "metadata": {
    "collapsed": false,
    "deletable": true,
    "editable": true
   },
   "outputs": [],
   "source": [
    "#geocode pickup and dropoff lat-lon for better visualization in tableau\n",
    "reader = codecs.getreader(\"utf-8\")\n",
    "api_key='' #removed api key here for personal account privacy\n",
    "def geocode(lat,lon):\n",
    "    api = \"https://maps.googleapis.com/maps/api/geocode/json?latlng=\"+str(lat)+\",\"+str(lon)+\"&key=\"+api_key\n",
    "    reverseGeoCode = json.load(reader(urllib.request.urlopen(api)))\n",
    "    zipcodelist=[k['long_name'] for k in reverseGeoCode['results'][0]['address_components'] if k['types'][0]=='postal_code']\n",
    "    if zipcodelist==[]:\n",
    "        zipcode='00000'\n",
    "    else:\n",
    "        zipcode=zipcodelist[0]\n",
    "    return zipcode\n"
   ]
  },
  {
   "cell_type": "code",
   "execution_count": null,
   "metadata": {
    "collapsed": false,
    "deletable": true,
    "editable": true
   },
   "outputs": [],
   "source": [
    "#For better visualization result. Tableau requires zipcode/block information, instead of just lat-lon\n",
    "#There maybe a better resource than using google api for geo-coding latlon into zipcode, this is just a demo of technical capabilities \n",
    "'''\n",
    "latlon=raw[['delivery_id','pickup_lat','pickup_lon','dropoff_lat','dropoff_lon']]\n",
    "f1=open('pickup_dropoff_geocode.csv','a')\n",
    "f1.write('delivery_id,pickup_lat,pickup_lon,pickup_zipcode,dropoff_lat,dropoff_lon,dropoff_zipcode\\n')\n",
    "first=0\n",
    "for i in range(len(latlon)):\n",
    "    time.sleep(0.1)\n",
    "    delivery_id=latlon.iloc[i,:][0]\n",
    "    pickup_lat=latlon.iloc[i,:][1]\n",
    "    pickup_lon=latlon.iloc[i,:][2]\n",
    "    pickup_zipcode=geocode(pickup_lat,pickup_lon)\n",
    "    dropoff_lat=latlon.iloc[i,:][3]\n",
    "    dropoff_lon=latlon.iloc[i,:][4]\n",
    "    dropoff_zipcode=geocode(dropoff_lat,dropoff_lon)\n",
    "    f1.write(','.join([str(delivery_id),str(pickup_lat),str(pickup_lon),pickup_zipcode,str(dropoff_lat),str(dropoff_lon),dropoff_zipcode])+'\\n')\n",
    "\n",
    "f1.close()\n",
    "'''"
   ]
  },
  {
   "cell_type": "code",
   "execution_count": 24,
   "metadata": {
    "collapsed": true,
    "deletable": true,
    "editable": true
   },
   "outputs": [],
   "source": [
    "#merge geo-code data with original dataset\n",
    "geocode=pd.read_csv('pickup_dropoff_geocode.csv').drop_duplicates() # read the written geocode into pandas dataframe\n",
    "delivery_zip=geocode.merge(raw,on='delivery_id',how='right') # delivery data with location zip code \n",
    "delivery_zip.to_csv('delivery_zip.csv')"
   ]
  },
  {
   "cell_type": "code",
   "execution_count": null,
   "metadata": {
    "collapsed": true
   },
   "outputs": [],
   "source": []
  },
  {
   "cell_type": "code",
   "execution_count": null,
   "metadata": {
    "collapsed": true
   },
   "outputs": [],
   "source": []
  },
  {
   "cell_type": "code",
   "execution_count": null,
   "metadata": {
    "collapsed": true
   },
   "outputs": [],
   "source": []
  },
  {
   "cell_type": "code",
   "execution_count": null,
   "metadata": {
    "collapsed": true
   },
   "outputs": [],
   "source": []
  },
  {
   "cell_type": "code",
   "execution_count": null,
   "metadata": {
    "collapsed": true
   },
   "outputs": [],
   "source": []
  }
 ],
 "metadata": {
  "kernelspec": {
   "display_name": "Python 3",
   "language": "python",
   "name": "python3"
  },
  "language_info": {
   "codemirror_mode": {
    "name": "ipython",
    "version": 3
   },
   "file_extension": ".py",
   "mimetype": "text/x-python",
   "name": "python",
   "nbconvert_exporter": "python",
   "pygments_lexer": "ipython3",
   "version": "3.5.2"
  },
  "widgets": {
   "state": {},
   "version": "1.1.2"
  }
 },
 "nbformat": 4,
 "nbformat_minor": 0
}
